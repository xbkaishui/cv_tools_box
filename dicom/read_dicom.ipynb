{
 "cells": [
  {
   "cell_type": "code",
   "execution_count": 2,
   "metadata": {},
   "outputs": [],
   "source": [
    "import os\n",
    "import uuid\n",
    "import shutil\n",
    "from copy import deepcopy\n",
    "import tempfile\n",
    "from pathlib import Path\n",
    "from PIL import Image, ImageOps\n",
    "import pydicom\n",
    "from pydicom.pixel_data_handlers.util import apply_voi_lut\n",
    "import png\n",
    "import json\n",
    "import numpy as np\n",
    "from matplotlib import pyplot as plt  # necessary import for PIL typing # noqa: F401\n",
    "from typing import Tuple, List, Dict, Union, Optional"
   ]
  },
  {
   "cell_type": "code",
   "execution_count": 17,
   "metadata": {},
   "outputs": [
    {
     "data": {
      "text/plain": [
       "array([[19105, 19044, 19055, ..., 19862, 19877, 19885],\n",
       "       [19165, 18961, 19007, ..., 19887, 19881, 19866],\n",
       "       [19138, 19199, 19208, ..., 19855, 19862, 19895],\n",
       "       ...,\n",
       "       [ 1736,  1714,  1752, ...,  1779,  1770,  1795],\n",
       "       [ 1725,  1743,  1776, ...,  1795,  1811,  1732],\n",
       "       [ 1707,  1714,  1767, ...,  1795,  1810,  1841]], dtype=uint16)"
      ]
     },
     "execution_count": 17,
     "metadata": {},
     "output_type": "execute_result"
    }
   ],
   "source": [
    "dicom_file_path = '/Users/xbkaishui/Desktop/J002_original.dcm'\n",
    "ds = pydicom.dcmread(dicom_file_path)\n",
    "ds\n",
    "# TDDO hack part\n",
    "# ds.SamplesPerPixel = 1\n",
    "# ds.pixel_array\n",
    "# ds.pixel_array"
   ]
  },
  {
   "cell_type": "code",
   "execution_count": 9,
   "metadata": {},
   "outputs": [],
   "source": [
    "def _check_if_greyscale(instance: pydicom.dataset.FileDataset) -> bool:\n",
    "        \"\"\"Check if a DICOM image is in greyscale.\n",
    "\n",
    "        :param instance: A single DICOM instance.\n",
    "\n",
    "        :return: FALSE if the Photometric Interpretation is RGB.\n",
    "        \"\"\"\n",
    "        # Check if image is grayscale using the Photometric Interpretation element\n",
    "        try:\n",
    "            color_scale = instance.PhotometricInterpretation\n",
    "        except AttributeError:\n",
    "            color_scale = None\n",
    "        is_greyscale = color_scale in [\"MONOCHROME1\", \"MONOCHROME2\"]\n",
    "\n",
    "        return is_greyscale"
   ]
  },
  {
   "cell_type": "code",
   "execution_count": 10,
   "metadata": {},
   "outputs": [],
   "source": [
    "def _rescale_dcm_pixel_array(\n",
    "        instance: pydicom.dataset.FileDataset, is_greyscale: bool\n",
    "    ) -> np.ndarray:\n",
    "        \"\"\"Rescale DICOM pixel_array.\n",
    "\n",
    "        :param instance: A singe DICOM instance.\n",
    "        :param is_greyscale: FALSE if the Photometric Interpretation is RGB.\n",
    "\n",
    "        :return: Rescaled DICOM pixel_array.\n",
    "        \"\"\"\n",
    "        # Normalize contrast\n",
    "        if \"WindowWidth\" in instance:\n",
    "            if is_greyscale:\n",
    "                image_2d = apply_voi_lut(instance.pixel_array, instance)\n",
    "            else:\n",
    "                image_2d = instance.pixel_array\n",
    "        else:\n",
    "            image_2d = instance.pixel_array\n",
    "\n",
    "        # Convert to float to avoid overflow or underflow losses.\n",
    "        image_2d_float = image_2d.astype(float)\n",
    "\n",
    "        if not is_greyscale:\n",
    "            image_2d_scaled = image_2d_float\n",
    "        else:\n",
    "            # Rescaling grey scale between 0-255\n",
    "            image_2d_scaled = (\n",
    "                np.maximum(image_2d_float, 0) / image_2d_float.max()\n",
    "            ) * 255.0\n",
    "\n",
    "        # Convert to uint\n",
    "        image_2d_scaled = np.uint8(image_2d_scaled)\n",
    "\n",
    "        return image_2d_scaled"
   ]
  },
  {
   "cell_type": "code",
   "execution_count": 12,
   "metadata": {},
   "outputs": [
    {
     "data": {
      "text/plain": [
       "(3008, 1586)"
      ]
     },
     "execution_count": 12,
     "metadata": {},
     "output_type": "execute_result"
    }
   ],
   "source": [
    "is_greyscale = _check_if_greyscale(ds)\n",
    "\n",
    "        # Rescale pixel array\n",
    "image = _rescale_dcm_pixel_array(ds, is_greyscale)\n",
    "shape = image.shape\n",
    "shape"
   ]
  },
  {
   "cell_type": "code",
   "execution_count": 14,
   "metadata": {},
   "outputs": [],
   "source": [
    "def save_pixel_array_as_png(\n",
    "        pixel_array: np.array,\n",
    "        is_greyscale: bool,\n",
    "        output_file_name: str = \"example\",\n",
    "        output_dir: str = \"temp_dir\",\n",
    "    ) -> None:\n",
    "        \"\"\"Save the pixel data from a loaded DICOM instance as PNG.\n",
    "\n",
    "        :param pixel_array: Pixel data from the instance.\n",
    "        :param is_greyscale: True if image is greyscale.\n",
    "        :param output_file_name: Name of output file (no file extension).\n",
    "        :param output_dir: String path to output directory.\n",
    "        \"\"\"\n",
    "        shape = pixel_array.shape\n",
    "\n",
    "        # Write the PNG file\n",
    "        os.makedirs(output_dir, exist_ok=True)\n",
    "        if is_greyscale:\n",
    "            with open(f\"{output_dir}/{output_file_name}.png\", \"wb\") as png_file:\n",
    "                w = png.Writer(shape[1], shape[0], greyscale=True)\n",
    "                w.write(png_file, pixel_array)\n",
    "        else:\n",
    "            with open(f\"{output_dir}/{output_file_name}.png\", \"wb\") as png_file:\n",
    "                w = png.Writer(shape[1], shape[0], greyscale=False)\n",
    "                # Semi-flatten the pixel array to RGB representation in 2D\n",
    "                pixel_array = np.reshape(pixel_array, (shape[0], shape[1] * 3))\n",
    "                w.write(png_file, pixel_array)\n",
    "\n",
    "        return None"
   ]
  },
  {
   "cell_type": "code",
   "execution_count": 15,
   "metadata": {},
   "outputs": [],
   "source": [
    "save_pixel_array_as_png(image, is_greyscale, \"test\", \"/tmp/\")"
   ]
  }
 ],
 "metadata": {
  "kernelspec": {
   "display_name": "py39",
   "language": "python",
   "name": "python3"
  },
  "language_info": {
   "codemirror_mode": {
    "name": "ipython",
    "version": 3
   },
   "file_extension": ".py",
   "mimetype": "text/x-python",
   "name": "python",
   "nbconvert_exporter": "python",
   "pygments_lexer": "ipython3",
   "version": "3.9.13"
  }
 },
 "nbformat": 4,
 "nbformat_minor": 2
}
