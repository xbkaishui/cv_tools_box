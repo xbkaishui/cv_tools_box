{
 "cells": [
  {
   "cell_type": "code",
   "execution_count": 1,
   "metadata": {},
   "outputs": [],
   "source": [
    "import torch \n",
    "from torchvision.models import resnet18 \n",
    "from loguru import logger"
   ]
  },
  {
   "cell_type": "code",
   "execution_count": 2,
   "metadata": {},
   "outputs": [
    {
     "data": {
      "text/plain": [
       "ResNet(\n",
       "  (conv1): Conv2d(3, 64, kernel_size=(7, 7), stride=(2, 2), padding=(3, 3), bias=False)\n",
       "  (bn1): BatchNorm2d(64, eps=1e-05, momentum=0.1, affine=True, track_running_stats=True)\n",
       "  (relu): ReLU(inplace=True)\n",
       "  (maxpool): MaxPool2d(kernel_size=3, stride=2, padding=1, dilation=1, ceil_mode=False)\n",
       "  (layer1): Sequential(\n",
       "    (0): BasicBlock(\n",
       "      (conv1): Conv2d(64, 64, kernel_size=(3, 3), stride=(1, 1), padding=(1, 1), bias=False)\n",
       "      (bn1): BatchNorm2d(64, eps=1e-05, momentum=0.1, affine=True, track_running_stats=True)\n",
       "      (relu): ReLU(inplace=True)\n",
       "      (conv2): Conv2d(64, 64, kernel_size=(3, 3), stride=(1, 1), padding=(1, 1), bias=False)\n",
       "      (bn2): BatchNorm2d(64, eps=1e-05, momentum=0.1, affine=True, track_running_stats=True)\n",
       "    )\n",
       "    (1): BasicBlock(\n",
       "      (conv1): Conv2d(64, 64, kernel_size=(3, 3), stride=(1, 1), padding=(1, 1), bias=False)\n",
       "      (bn1): BatchNorm2d(64, eps=1e-05, momentum=0.1, affine=True, track_running_stats=True)\n",
       "      (relu): ReLU(inplace=True)\n",
       "      (conv2): Conv2d(64, 64, kernel_size=(3, 3), stride=(1, 1), padding=(1, 1), bias=False)\n",
       "      (bn2): BatchNorm2d(64, eps=1e-05, momentum=0.1, affine=True, track_running_stats=True)\n",
       "    )\n",
       "  )\n",
       "  (layer2): Sequential(\n",
       "    (0): BasicBlock(\n",
       "      (conv1): Conv2d(64, 128, kernel_size=(3, 3), stride=(2, 2), padding=(1, 1), bias=False)\n",
       "      (bn1): BatchNorm2d(128, eps=1e-05, momentum=0.1, affine=True, track_running_stats=True)\n",
       "      (relu): ReLU(inplace=True)\n",
       "      (conv2): Conv2d(128, 128, kernel_size=(3, 3), stride=(1, 1), padding=(1, 1), bias=False)\n",
       "      (bn2): BatchNorm2d(128, eps=1e-05, momentum=0.1, affine=True, track_running_stats=True)\n",
       "      (downsample): Sequential(\n",
       "        (0): Conv2d(64, 128, kernel_size=(1, 1), stride=(2, 2), bias=False)\n",
       "        (1): BatchNorm2d(128, eps=1e-05, momentum=0.1, affine=True, track_running_stats=True)\n",
       "      )\n",
       "    )\n",
       "    (1): BasicBlock(\n",
       "      (conv1): Conv2d(128, 128, kernel_size=(3, 3), stride=(1, 1), padding=(1, 1), bias=False)\n",
       "      (bn1): BatchNorm2d(128, eps=1e-05, momentum=0.1, affine=True, track_running_stats=True)\n",
       "      (relu): ReLU(inplace=True)\n",
       "      (conv2): Conv2d(128, 128, kernel_size=(3, 3), stride=(1, 1), padding=(1, 1), bias=False)\n",
       "      (bn2): BatchNorm2d(128, eps=1e-05, momentum=0.1, affine=True, track_running_stats=True)\n",
       "    )\n",
       "  )\n",
       "  (layer3): Sequential(\n",
       "    (0): BasicBlock(\n",
       "      (conv1): Conv2d(128, 256, kernel_size=(3, 3), stride=(2, 2), padding=(1, 1), bias=False)\n",
       "      (bn1): BatchNorm2d(256, eps=1e-05, momentum=0.1, affine=True, track_running_stats=True)\n",
       "      (relu): ReLU(inplace=True)\n",
       "      (conv2): Conv2d(256, 256, kernel_size=(3, 3), stride=(1, 1), padding=(1, 1), bias=False)\n",
       "      (bn2): BatchNorm2d(256, eps=1e-05, momentum=0.1, affine=True, track_running_stats=True)\n",
       "      (downsample): Sequential(\n",
       "        (0): Conv2d(128, 256, kernel_size=(1, 1), stride=(2, 2), bias=False)\n",
       "        (1): BatchNorm2d(256, eps=1e-05, momentum=0.1, affine=True, track_running_stats=True)\n",
       "      )\n",
       "    )\n",
       "    (1): BasicBlock(\n",
       "      (conv1): Conv2d(256, 256, kernel_size=(3, 3), stride=(1, 1), padding=(1, 1), bias=False)\n",
       "      (bn1): BatchNorm2d(256, eps=1e-05, momentum=0.1, affine=True, track_running_stats=True)\n",
       "      (relu): ReLU(inplace=True)\n",
       "      (conv2): Conv2d(256, 256, kernel_size=(3, 3), stride=(1, 1), padding=(1, 1), bias=False)\n",
       "      (bn2): BatchNorm2d(256, eps=1e-05, momentum=0.1, affine=True, track_running_stats=True)\n",
       "    )\n",
       "  )\n",
       "  (layer4): Sequential(\n",
       "    (0): BasicBlock(\n",
       "      (conv1): Conv2d(256, 512, kernel_size=(3, 3), stride=(2, 2), padding=(1, 1), bias=False)\n",
       "      (bn1): BatchNorm2d(512, eps=1e-05, momentum=0.1, affine=True, track_running_stats=True)\n",
       "      (relu): ReLU(inplace=True)\n",
       "      (conv2): Conv2d(512, 512, kernel_size=(3, 3), stride=(1, 1), padding=(1, 1), bias=False)\n",
       "      (bn2): BatchNorm2d(512, eps=1e-05, momentum=0.1, affine=True, track_running_stats=True)\n",
       "      (downsample): Sequential(\n",
       "        (0): Conv2d(256, 512, kernel_size=(1, 1), stride=(2, 2), bias=False)\n",
       "        (1): BatchNorm2d(512, eps=1e-05, momentum=0.1, affine=True, track_running_stats=True)\n",
       "      )\n",
       "    )\n",
       "    (1): BasicBlock(\n",
       "      (conv1): Conv2d(512, 512, kernel_size=(3, 3), stride=(1, 1), padding=(1, 1), bias=False)\n",
       "      (bn1): BatchNorm2d(512, eps=1e-05, momentum=0.1, affine=True, track_running_stats=True)\n",
       "      (relu): ReLU(inplace=True)\n",
       "      (conv2): Conv2d(512, 512, kernel_size=(3, 3), stride=(1, 1), padding=(1, 1), bias=False)\n",
       "      (bn2): BatchNorm2d(512, eps=1e-05, momentum=0.1, affine=True, track_running_stats=True)\n",
       "    )\n",
       "  )\n",
       "  (avgpool): AdaptiveAvgPool2d(output_size=(1, 1))\n",
       "  (fc): Linear(in_features=512, out_features=1000, bias=True)\n",
       ")"
      ]
     },
     "execution_count": 2,
     "metadata": {},
     "output_type": "execute_result"
    }
   ],
   "source": [
    "# 使用PyTorch model zoo中的resnet18作为例子 \n",
    "model = resnet18() \n",
    "model.eval() "
   ]
  },
  {
   "cell_type": "code",
   "execution_count": 3,
   "metadata": {},
   "outputs": [],
   "source": [
    "dummy_input = torch.rand(1, 3, 224, 224) "
   ]
  },
  {
   "cell_type": "code",
   "execution_count": 4,
   "metadata": {},
   "outputs": [],
   "source": [
    "# IR生成 \n",
    "with torch.no_grad(): \n",
    "    jit_model = torch.jit.trace(model, dummy_input) "
   ]
  },
  {
   "cell_type": "code",
   "execution_count": 5,
   "metadata": {},
   "outputs": [
    {
     "data": {
      "text/plain": [
       "ResNet(\n",
       "  original_name=ResNet\n",
       "  (conv1): Conv2d(original_name=Conv2d)\n",
       "  (bn1): BatchNorm2d(original_name=BatchNorm2d)\n",
       "  (relu): ReLU(original_name=ReLU)\n",
       "  (maxpool): MaxPool2d(original_name=MaxPool2d)\n",
       "  (layer1): Sequential(\n",
       "    original_name=Sequential\n",
       "    (0): BasicBlock(\n",
       "      original_name=BasicBlock\n",
       "      (conv1): Conv2d(original_name=Conv2d)\n",
       "      (bn1): BatchNorm2d(original_name=BatchNorm2d)\n",
       "      (relu): ReLU(original_name=ReLU)\n",
       "      (conv2): Conv2d(original_name=Conv2d)\n",
       "      (bn2): BatchNorm2d(original_name=BatchNorm2d)\n",
       "    )\n",
       "    (1): BasicBlock(\n",
       "      original_name=BasicBlock\n",
       "      (conv1): Conv2d(original_name=Conv2d)\n",
       "      (bn1): BatchNorm2d(original_name=BatchNorm2d)\n",
       "      (relu): ReLU(original_name=ReLU)\n",
       "      (conv2): Conv2d(original_name=Conv2d)\n",
       "      (bn2): BatchNorm2d(original_name=BatchNorm2d)\n",
       "    )\n",
       "  )\n",
       "  (layer2): Sequential(\n",
       "    original_name=Sequential\n",
       "    (0): BasicBlock(\n",
       "      original_name=BasicBlock\n",
       "      (conv1): Conv2d(original_name=Conv2d)\n",
       "      (bn1): BatchNorm2d(original_name=BatchNorm2d)\n",
       "      (relu): ReLU(original_name=ReLU)\n",
       "      (conv2): Conv2d(original_name=Conv2d)\n",
       "      (bn2): BatchNorm2d(original_name=BatchNorm2d)\n",
       "      (downsample): Sequential(\n",
       "        original_name=Sequential\n",
       "        (0): Conv2d(original_name=Conv2d)\n",
       "        (1): BatchNorm2d(original_name=BatchNorm2d)\n",
       "      )\n",
       "    )\n",
       "    (1): BasicBlock(\n",
       "      original_name=BasicBlock\n",
       "      (conv1): Conv2d(original_name=Conv2d)\n",
       "      (bn1): BatchNorm2d(original_name=BatchNorm2d)\n",
       "      (relu): ReLU(original_name=ReLU)\n",
       "      (conv2): Conv2d(original_name=Conv2d)\n",
       "      (bn2): BatchNorm2d(original_name=BatchNorm2d)\n",
       "    )\n",
       "  )\n",
       "  (layer3): Sequential(\n",
       "    original_name=Sequential\n",
       "    (0): BasicBlock(\n",
       "      original_name=BasicBlock\n",
       "      (conv1): Conv2d(original_name=Conv2d)\n",
       "      (bn1): BatchNorm2d(original_name=BatchNorm2d)\n",
       "      (relu): ReLU(original_name=ReLU)\n",
       "      (conv2): Conv2d(original_name=Conv2d)\n",
       "      (bn2): BatchNorm2d(original_name=BatchNorm2d)\n",
       "      (downsample): Sequential(\n",
       "        original_name=Sequential\n",
       "        (0): Conv2d(original_name=Conv2d)\n",
       "        (1): BatchNorm2d(original_name=BatchNorm2d)\n",
       "      )\n",
       "    )\n",
       "    (1): BasicBlock(\n",
       "      original_name=BasicBlock\n",
       "      (conv1): Conv2d(original_name=Conv2d)\n",
       "      (bn1): BatchNorm2d(original_name=BatchNorm2d)\n",
       "      (relu): ReLU(original_name=ReLU)\n",
       "      (conv2): Conv2d(original_name=Conv2d)\n",
       "      (bn2): BatchNorm2d(original_name=BatchNorm2d)\n",
       "    )\n",
       "  )\n",
       "  (layer4): Sequential(\n",
       "    original_name=Sequential\n",
       "    (0): BasicBlock(\n",
       "      original_name=BasicBlock\n",
       "      (conv1): Conv2d(original_name=Conv2d)\n",
       "      (bn1): BatchNorm2d(original_name=BatchNorm2d)\n",
       "      (relu): ReLU(original_name=ReLU)\n",
       "      (conv2): Conv2d(original_name=Conv2d)\n",
       "      (bn2): BatchNorm2d(original_name=BatchNorm2d)\n",
       "      (downsample): Sequential(\n",
       "        original_name=Sequential\n",
       "        (0): Conv2d(original_name=Conv2d)\n",
       "        (1): BatchNorm2d(original_name=BatchNorm2d)\n",
       "      )\n",
       "    )\n",
       "    (1): BasicBlock(\n",
       "      original_name=BasicBlock\n",
       "      (conv1): Conv2d(original_name=Conv2d)\n",
       "      (bn1): BatchNorm2d(original_name=BatchNorm2d)\n",
       "      (relu): ReLU(original_name=ReLU)\n",
       "      (conv2): Conv2d(original_name=Conv2d)\n",
       "      (bn2): BatchNorm2d(original_name=BatchNorm2d)\n",
       "    )\n",
       "  )\n",
       "  (avgpool): AdaptiveAvgPool2d(original_name=AdaptiveAvgPool2d)\n",
       "  (fc): Linear(original_name=Linear)\n",
       ")"
      ]
     },
     "execution_count": 5,
     "metadata": {},
     "output_type": "execute_result"
    }
   ],
   "source": [
    "jit_model"
   ]
  },
  {
   "cell_type": "code",
   "execution_count": 6,
   "metadata": {},
   "outputs": [
    {
     "name": "stdout",
     "output_type": "stream",
     "text": [
      "graph(%self.11 : __torch__.torch.nn.modules.container.Sequential,\n",
      "      %4 : Float(1, 64, 56, 56, strides=[200704, 3136, 56, 1], requires_grad=0, device=cpu)):\n",
      "  %_1.1 : __torch__.torchvision.models.resnet.___torch_mangle_10.BasicBlock = prim::GetAttr[name=\"1\"](%self.11)\n",
      "  %_0.1 : __torch__.torchvision.models.resnet.BasicBlock = prim::GetAttr[name=\"0\"](%self.11)\n",
      "  %6 : Tensor = prim::CallMethod[name=\"forward\"](%_0.1, %4)\n",
      "  %7 : Tensor = prim::CallMethod[name=\"forward\"](%_1.1, %6)\n",
      "  return (%7)\n",
      "\n"
     ]
    }
   ],
   "source": [
    "jit_layer1 = jit_model.layer1 \n",
    "print(jit_layer1.graph) "
   ]
  },
  {
   "cell_type": "code",
   "execution_count": 8,
   "metadata": {},
   "outputs": [
    {
     "name": "stdout",
     "output_type": "stream",
     "text": [
      "def forward(self,\n",
      "    argument_1: Tensor) -> Tensor:\n",
      "  _1 = getattr(self, \"1\")\n",
      "  _0 = getattr(self, \"0\")\n",
      "  _2 = (_1).forward((_0).forward(argument_1, ), )\n",
      "  return _2\n",
      "\n"
     ]
    }
   ],
   "source": [
    "print(jit_layer1.code)"
   ]
  },
  {
   "cell_type": "code",
   "execution_count": 9,
   "metadata": {},
   "outputs": [
    {
     "name": "stdout",
     "output_type": "stream",
     "text": [
      "def forward(self,\n",
      "    argument_1: Tensor) -> Tensor:\n",
      "  _1 = getattr(self, \"1\")\n",
      "  _0 = getattr(self, \"0\")\n",
      "  bn2 = _0.bn2\n",
      "  conv2 = _0.conv2\n",
      "  relu = _0.relu\n",
      "  bn1 = _0.bn1\n",
      "  conv1 = _0.conv1\n",
      "  weight = conv1.weight\n",
      "  input = torch._convolution(argument_1, weight, None, [1, 1], [1, 1], [1, 1], False, [0, 0], 1, False, False, True, True)\n",
      "  running_var = bn1.running_var\n",
      "  running_mean = bn1.running_mean\n",
      "  bias = bn1.bias\n",
      "  weight0 = bn1.weight\n",
      "  input0 = torch.batch_norm(input, weight0, bias, running_mean, running_var, False, 0.10000000000000001, 1.0000000000000001e-05, True)\n",
      "  input1 = torch.relu_(input0)\n",
      "  weight1 = conv2.weight\n",
      "  input2 = torch._convolution(input1, weight1, None, [1, 1], [1, 1], [1, 1], False, [0, 0], 1, False, False, True, True)\n",
      "  running_var0 = bn2.running_var\n",
      "  running_mean0 = bn2.running_mean\n",
      "  bias0 = bn2.bias\n",
      "  weight2 = bn2.weight\n",
      "  out = torch.batch_norm(input2, weight2, bias0, running_mean0, running_var0, False, 0.10000000000000001, 1.0000000000000001e-05, True)\n",
      "  input3 = torch.add_(out, argument_1)\n",
      "  input4 = torch.relu_(input3)\n",
      "  bn20 = _1.bn2\n",
      "  conv20 = _1.conv2\n",
      "  relu0 = _1.relu\n",
      "  bn10 = _1.bn1\n",
      "  conv10 = _1.conv1\n",
      "  weight3 = conv10.weight\n",
      "  input5 = torch._convolution(input4, weight3, None, [1, 1], [1, 1], [1, 1], False, [0, 0], 1, False, False, True, True)\n",
      "  running_var1 = bn10.running_var\n",
      "  running_mean1 = bn10.running_mean\n",
      "  bias1 = bn10.bias\n",
      "  weight4 = bn10.weight\n",
      "  input6 = torch.batch_norm(input5, weight4, bias1, running_mean1, running_var1, False, 0.10000000000000001, 1.0000000000000001e-05, True)\n",
      "  input7 = torch.relu_(input6)\n",
      "  weight5 = conv20.weight\n",
      "  input8 = torch._convolution(input7, weight5, None, [1, 1], [1, 1], [1, 1], False, [0, 0], 1, False, False, True, True)\n",
      "  running_var2 = bn20.running_var\n",
      "  running_mean2 = bn20.running_mean\n",
      "  bias2 = bn20.bias\n",
      "  weight6 = bn20.weight\n",
      "  out0 = torch.batch_norm(input8, weight6, bias2, running_mean2, running_var2, False, 0.10000000000000001, 1.0000000000000001e-05, True)\n",
      "  input9 = torch.add_(out0, input4)\n",
      "  return torch.relu_(input9)\n",
      "\n"
     ]
    }
   ],
   "source": [
    "torch._C._jit_pass_inline(jit_layer1.graph) \n",
    "print(jit_layer1.code) "
   ]
  },
  {
   "attachments": {},
   "cell_type": "markdown",
   "metadata": {},
   "source": [
    "# test onnx export "
   ]
  },
  {
   "cell_type": "code",
   "execution_count": 10,
   "metadata": {},
   "outputs": [],
   "source": [
    "import torch\n",
    "\n",
    "class Model(torch.nn.Module):\n",
    "    def __init__(self, n):\n",
    "        super().__init__()\n",
    "        self.n = n\n",
    "        self.conv = torch.nn.Conv2d(3, 3, 3)\n",
    "\n",
    "    def forward(self, x):\n",
    "        for i in range(self.n):\n",
    "            x = self.conv(x)\n",
    "        return x\n",
    "\n",
    "\n",
    "\n",
    "models = [Model(2), Model(3)]\n",
    "model_names = ['model_2', 'model_3']"
   ]
  },
  {
   "cell_type": "code",
   "execution_count": 13,
   "metadata": {},
   "outputs": [
    {
     "name": "stdout",
     "output_type": "stream",
     "text": [
      "================ Diagnostic Run torch.onnx.export version 2.0.0 ================\n",
      "verbose: False, log level: Level.ERROR\n",
      "======================= 0 NONE 0 NOTE 0 WARNING 0 ERROR ========================\n",
      "\n",
      "================ Diagnostic Run torch.onnx.export version 2.0.0 ================\n",
      "verbose: False, log level: Level.ERROR\n",
      "======================= 0 NONE 0 NOTE 0 WARNING 0 ERROR ========================\n",
      "\n",
      "================ Diagnostic Run torch.onnx.export version 2.0.0 ================\n",
      "verbose: False, log level: Level.ERROR\n",
      "======================= 0 NONE 0 NOTE 0 WARNING 0 ERROR ========================\n",
      "\n",
      "================ Diagnostic Run torch.onnx.export version 2.0.0 ================\n",
      "verbose: False, log level: Level.ERROR\n",
      "======================= 0 NONE 0 NOTE 0 WARNING 0 ERROR ========================\n",
      "\n"
     ]
    },
    {
     "name": "stderr",
     "output_type": "stream",
     "text": [
      "/Users/xbkaishui/anaconda3/envs/py39/lib/python3.9/site-packages/torch/onnx/utils.py:825: UserWarning: no signature found for <torch.ScriptMethod object at 0x7f8c4d3c2360>, skipping _decide_input_format\n",
      "  warnings.warn(f\"{e}, skipping _decide_input_format\")\n",
      "/Users/xbkaishui/anaconda3/envs/py39/lib/python3.9/site-packages/torch/onnx/utils.py:825: UserWarning: no signature found for <torch.ScriptMethod object at 0x7f8c2dfd0220>, skipping _decide_input_format\n",
      "  warnings.warn(f\"{e}, skipping _decide_input_format\")\n"
     ]
    }
   ],
   "source": [
    "for model, model_name in zip(models, model_names):\n",
    "    dummy_input = torch.rand(1, 3, 10, 10)\n",
    "    dummy_output = model(dummy_input)\n",
    "    model_trace = torch.jit.trace(model, dummy_input)\n",
    "    model_script = torch.jit.script(model)\n",
    "\n",
    "    # 跟踪法与直接 torch.onnx.export(model, ...)等价\n",
    "    torch.onnx.export(model_trace, dummy_input, f'{model_name}_trace.onnx')\n",
    "    # 脚本化必须先调用 torch.jit.sciprt\n",
    "    torch.onnx.export(model_script, dummy_input, f'{model_name}_script.onnx')"
   ]
  },
  {
   "cell_type": "code",
   "execution_count": null,
   "metadata": {},
   "outputs": [],
   "source": []
  }
 ],
 "metadata": {
  "kernelspec": {
   "display_name": "py39",
   "language": "python",
   "name": "python3"
  },
  "language_info": {
   "codemirror_mode": {
    "name": "ipython",
    "version": 3
   },
   "file_extension": ".py",
   "mimetype": "text/x-python",
   "name": "python",
   "nbconvert_exporter": "python",
   "pygments_lexer": "ipython3",
   "version": "3.9.13"
  },
  "orig_nbformat": 4
 },
 "nbformat": 4,
 "nbformat_minor": 2
}
