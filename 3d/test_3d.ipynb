{
 "cells": [
  {
   "cell_type": "code",
   "execution_count": 2,
   "metadata": {},
   "outputs": [
    {
     "name": "stdout",
     "output_type": "stream",
     "text": [
      "PointCloud with 16485072 points.\n",
      "Number of points: 16485072\n"
     ]
    }
   ],
   "source": [
    "import open3d as o3d\n",
    "# 读取PCD文件\n",
    "pcd = o3d.io.read_point_cloud('1_pcld.pcd')\n",
    "\n",
    "# 输出点云的一些基本信息\n",
    "print(pcd)\n",
    "print(\"Number of points:\", len(pcd.points))\n",
    "\n",
    "# 可视化点云\n",
    "o3d.visualization.draw_geometries([pcd])\n"
   ]
  },
  {
   "cell_type": "code",
   "execution_count": 17,
   "metadata": {},
   "outputs": [
    {
     "name": "stdout",
     "output_type": "stream",
     "text": [
      "(5821, 2832, 3)\n",
      "[-16.95999908  80.2559967   51.11800385]\n",
      "[-16.70400047  79.90399933  51.11000061]\n",
      "ng....\n",
      "[-15.29599953  84.35199738  51.2460022 ]\n",
      "[-14.75199986  80.70400238  51.22200394]\n"
     ]
    }
   ],
   "source": [
    "import numpy as np\n",
    "import open3d as o3d\n",
    "# 读取PCD文件\n",
    "pcd = o3d.io.read_point_cloud('1_pcld.pcd')\n",
    "\n",
    "# bg x 886, y 2508, x 894 , 2497\n",
    "# defect x 955, 2522, x 938, 2636\n",
    "\n",
    "points = np.asarray(pcd.points)\n",
    "\n",
    "width, height = 2832, 5821\n",
    "points = points.reshape((height, width, 3))\n",
    "print(points.shape)\n",
    "print(points[2508, 886])\n",
    "print(points[2497, 894])\n",
    "print(\"ng....\")\n",
    "print(points[2636, 938])\n",
    "print(points[2522, 955])"
   ]
  },
  {
   "cell_type": "code",
   "execution_count": 15,
   "metadata": {},
   "outputs": [
    {
     "data": {
      "text/plain": [
       "(5821, 2832)"
      ]
     },
     "execution_count": 15,
     "metadata": {},
     "output_type": "execute_result"
    }
   ],
   "source": [
    "# points[:, :, 2].idxmax()\n",
    "# points[:,:,2].max()\n",
    "# points[:,:,2].min()\n",
    "# points[:, :, 2]"
   ]
  },
  {
   "cell_type": "code",
   "execution_count": 2,
   "metadata": {},
   "outputs": [],
   "source": [
    "import open3d as o3d\n",
    "import numpy as np\n",
    "\n",
    "# 加载点云\n",
    "# pcd = o3d.io.read_point_cloud(\"path_to_your_pcd_file.pcd\")\n",
    "pcd = o3d.io.read_point_cloud('1_pcld.pcd')\n",
    "\n",
    "\n",
    "# 估计点云的法线\n",
    "pcd.estimate_normals()\n",
    "\n",
    "# 使用RANSAC平面拟合\n",
    "plane_model, inliers = pcd.segment_plane(distance_threshold=0.01,\n",
    "                                         ransac_n=3,\n",
    "                                         num_iterations=1000)\n",
    "\n",
    "[a, b, c, d] = plane_model\n",
    "print(f\"Plane equation: {a:.2f}x + {b:.2f}y + {c:.2f}z + {d:.2f} = 0\")\n",
    "\n",
    "# 计算点云中每个点到平面的距离\n",
    "distances = np.abs((a * pcd.points[:, 0] +\n",
    "                    b * pcd.points[:, 1] +\n",
    "                    c * pcd.points[:, 2] +\n",
    "                    d) / np.sqrt(a**2 + b**2 + c**2))\n",
    "\n",
    "# 获取最小和最大距离，即物体的高度\n",
    "min_distance = np.min(distances)\n",
    "max_distance = np.max(distances)\n",
    "height = max_distance - min_distance\n",
    "print(f\"Height of the object: {height:.2f}\")\n",
    "\n",
    "# 可视化平面和点云\n",
    "inlier_cloud = pcd.select_by_index(inliers)\n",
    "inlier_cloud.paint_uniform_color([1.0, 0, 0])\n",
    "outlier_cloud = pcd.select_by_index(inliers, invert=True)\n",
    "\n",
    "o3d.visualization.draw_geometries([inlier_cloud, outlier_cloud])\n"
   ]
  },
  {
   "cell_type": "code",
   "execution_count": 14,
   "metadata": {},
   "outputs": [
    {
     "data": {
      "image/png": "[encoded data removed]",
      "text/plain": [
       "<Figure size 640x480 with 1 Axes>"
      ]
     },
     "metadata": {},
     "output_type": "display_data"
    }
   ],
   "source": [
    "import open3d as o3d\n",
    "import matplotlib.pyplot as plt\n",
    "import numpy as np\n",
    "\n",
    "pcd_file_path = \"C:/Users/xxkai/Downloads/3.12焊缝高度/不同位置/1_pcld.pcd\"\n",
    "\n",
    "# 读取PCD文件\n",
    "pcd = o3d.io.read_point_cloud(pcd_file_path)\n",
    "\n",
    "\n",
    "# 获取点云数据\n",
    "points = np.asarray(pcd.points)\n",
    "\n",
    "# 假设我们使用点的z坐标作为深度信息\n",
    "depths = points[:, 2]\n",
    "\n",
    "# 将深度信息转换为灰度图\n",
    "# 首先需要将深度信息转换为0-255的范围\n",
    "min_depth = np.min(depths)\n",
    "max_depth = np.max(depths)\n",
    "gray_depths = (depths - min_depth) * 255 / (max_depth - min_depth)\n",
    "\n",
    "# 创建灰度图的尺寸\n",
    "# 这里假设您有一个特定的大小，或者可以根据需要调整\n",
    "\n",
    "width, height = 2832, 5820\n",
    "gray_depths = gray_depths[:width * height].reshape(height, width)\n",
    "\n",
    "# 显示灰度图\n",
    "plt.imshow(gray_depths, cmap='gray')\n",
    "plt.axis('off')\n",
    "plt.show()\n",
    "\n",
    "# 保存灰度图为图片\n",
    "plt.imsave('depth_gray_image.png', gray_depths, cmap='gray')\n"
   ]
  },
  {
   "cell_type": "code",
   "execution_count": 21,
   "metadata": {},
   "outputs": [],
   "source": [
    "import cv2\n",
    "import numpy as np\n",
    "import os\n",
    "\n",
    "# 读取16位图像\n",
    "image_path = \"1_depth.png\"\n",
    "\n",
    "image_path = \"C:/project/2520-0779/1.png\"\n",
    "\n",
    "img_dir = \"C:/project/2520-0779\"\n",
    "\n",
    "img_paths = os.listdir(img_dir)\n",
    "\n",
    "for image_path in img_paths:\n",
    "    if not 'png' in image_path:\n",
    "        continue\n",
    "    image = cv2.imread(f'{img_dir}/{image_path}', cv2.IMREAD_ANYDEPTH)\n",
    "\n",
    "    # 设置灰度的最大最小值\n",
    "    min_val = 25500  # 您想要的最小灰度值\n",
    "    max_val = 27000  # 您想要的最大灰度值\n",
    "\n",
    "    # 将16位图像转换为8位灰度图像\n",
    "    # 这里我们使用convertScaleAbs来缩放和转换数据类型\n",
    "    image = np.where(image < min_val , 0, image)\n",
    "    # gray_image = cv2.convertScaleAbs(image, alpha=(255.0/(max_val-min_val)), beta=-min_val*(255.0/(max_val-min_val)))\n",
    "    gray_image = cv2.convertScaleAbs(image, alpha=(255.0/(max_val-min_val)), beta=-min_val*(255.0/(max_val-min_val)))\n",
    "\n",
    "\n",
    "    # 设置背景为黑色\n",
    "    # 假设背景的灰度值较低，我们可以设置一个阈值\n",
    "    threshold_value = 254  # 根据实际情况调整此阈值\n",
    "    gray_image = np.where(gray_image > threshold_value, 0, gray_image)\n",
    "\n",
    "    # 保存灰度图像\n",
    "    output_path = 'gray_image.jpg'\n",
    "    cv2.imwrite(f'{img_dir}/gray_{image_path}', gray_image)\n"
   ]
  },
  {
   "cell_type": "code",
   "execution_count": 57,
   "metadata": {},
   "outputs": [],
   "source": [
    "# np.unique(gray_image)"
   ]
  },
  {
   "cell_type": "code",
   "execution_count": 63,
   "metadata": {},
   "outputs": [
    {
     "data": {
      "text/plain": [
       "True"
      ]
     },
     "execution_count": 63,
     "metadata": {},
     "output_type": "execute_result"
    }
   ],
   "source": [
    "# auto threshold\n",
    "_, thresh = cv2.threshold(gray_image, 0, 255, cv2.THRESH_BINARY + cv2.THRESH_OTSU)\n",
    "cv2.imwrite('thresh.jpg', thresh)\n",
    "        \n",
    "\n",
    "contours, hierarchy = cv2.findContours(thresh, cv2.RETR_EXTERNAL, cv2.CHAIN_APPROX_NONE)\n",
    "contours = sorted(contours, key=cv2.contourArea, reverse=True)  # 根据面积大小进行排序\n",
    "mask = contours[0]\n",
    "largest_contour = np.zeros_like(gray_image)\n",
    "cv2.drawContours(largest_contour, contours, 0, 255, -1)\n",
    "\n",
    "img_gray_roi = gray_image.copy()\n",
    "img_mask_roi = cv2.bitwise_and(img_gray_roi, largest_contour)\n",
    "# img_mask_roi = cv2.bitwise_and(img_gray_roi, img_gray_roi, mask=largest_contour)\n",
    "cv2.imwrite('mask.jpg', img_mask_roi)\n",
    "\n",
    "value, thresh_2 = cv2.threshold(img_mask_roi[img_mask_roi > 0], 0, 255, cv2.THRESH_BINARY + cv2.THRESH_OTSU)\n",
    "cv2.imwrite('thresh_2.jpg', thresh_2)\n",
    "_, img_mask_binary = cv2.threshold(img_mask_roi, value, 255, cv2.THRESH_BINARY)\n",
    "\n",
    "cv2.imwrite('contour.jpg', img_mask_binary)\n"
   ]
  },
  {
   "cell_type": "code",
   "execution_count": 22,
   "metadata": {},
   "outputs": [
    {
     "data": {
      "image/png": "[encoded data removed]",
      "text/plain": [
       "<Figure size 640x480 with 1 Axes>"
      ]
     },
     "metadata": {},
     "output_type": "display_data"
    }
   ],
   "source": [
    "\n",
    "import cv2\n",
    "import matplotlib.pyplot as plt\n",
    "\n",
    "# 读取图片\n",
    "image_path = 'gray_1.png'\n",
    "image = cv2.imread(image_path, cv2.IMREAD_GRAYSCALE)\n",
    "\n",
    "# 计算直方图\n",
    "hist = cv2.calcHist([image], [0], None, [256], [0, 256])\n",
    "\n",
    "# 绘制直方图\n",
    "plt.figure()\n",
    "plt.title('Grayscale Histogram')\n",
    "plt.xlabel('Bins')\n",
    "plt.ylabel('Frequency')\n",
    "plt.xlim([0, 256])\n",
    "plt.plot(hist)\n",
    "plt.show()\n"
   ]
  },
  {
   "cell_type": "code",
   "execution_count": 87,
   "metadata": {},
   "outputs": [
    {
     "name": "stdout",
     "output_type": "stream",
     "text": [
      "{'area': 1698570.0, 'bounding_box': (727, 847, 1770, 4258)}\n"
     ]
    }
   ],
   "source": [
    "# auto threshold\n",
    "# gray_image = cv2.imread('test.png', cv2.IMREAD_GRAYSCALE)\n",
    "# _, thresh = cv2.threshold(gray_image, 150, 255, cv2.THRESH_BINARY + cv2.THRESH_OTSU)\n",
    "# _, thresh = cv2.threshold(gray_image, 150, 255, cv2.THRESH_BINARY)\n",
    "# cv2.imwrite('thresh.jpg', thresh)\n",
    "\n",
    "\n",
    "# 读取图像\n",
    "image_path = 'test.png'\n",
    "image_path = 'mask.jpg'\n",
    "gray_image = cv2.imread(image_path, cv2.IMREAD_GRAYSCALE)\n",
    "# 转换为灰度图像\n",
    "# 使用Sobel算子进行边缘检测\n",
    "# 这里使用了x和y方向的Sobel算子\n",
    "# 参数包括图像、x方向的梯度、y方向的梯度、梯度大小、方向、边缘检测的阈值\n",
    "gradient_x = cv2.Sobel(gray_image, cv2.CV_64F, 1, 0, ksize=5)\n",
    "gradient_y = cv2.Sobel(gray_image, cv2.CV_64F, 0, 1, ksize=5)\n",
    "gradient_magnitude = np.sqrt(gradient_x**2 + gradient_y**2)\n",
    "gradient_direction = np.arctan2(gradient_y, gradient_x)\n",
    "# 应用阈值进行二值化\n",
    "_, binary_image = cv2.threshold(gradient_magnitude, 30, 255, cv2.THRESH_BINARY)\n",
    "binary_image = binary_image.astype(np.uint8)\n",
    "# 查找轮廓\n",
    "contours, _ = cv2.findContours(binary_image, cv2.RETR_EXTERNAL, cv2.CHAIN_APPROX_SIMPLE)\n",
    "# 初始化一个列表来存储轮廓特征\n",
    "contours_features = []\n",
    "# 遍历所有轮廓\n",
    "for contour in contours:\n",
    "    # 计算轮廓的面积\n",
    "    area = cv2.contourArea(contour)\n",
    "    \n",
    "    # 忽略小区域\n",
    "    if area < 500:\n",
    "        continue\n",
    "    \n",
    "    # 计算轮廓的近似（如使用最小边界框）\n",
    "    x, y, w, h = cv2.boundingRect(contour)\n",
    "    \n",
    "    # 添加轮廓特征到列表\n",
    "    contours_features.append({\n",
    "        'area': area,\n",
    "        'bounding_box': (x, y, w, h)\n",
    "    })\n",
    "# 打印或处理轮廓特征\n",
    "for feature in contours_features:\n",
    "    print(feature)\n"
   ]
  },
  {
   "cell_type": "code",
   "execution_count": 77,
   "metadata": {},
   "outputs": [
    {
     "name": "stdout",
     "output_type": "stream",
     "text": [
      "{'area': 24279.5, 'bounding_box': (0, 0, 115, 214), 'center': (57, 106)}\n"
     ]
    },
    {
     "data": {
      "text/plain": [
       "True"
      ]
     },
     "execution_count": 77,
     "metadata": {},
     "output_type": "execute_result"
    }
   ],
   "source": [
    "\n",
    "# 读取图像\n",
    "image_path = 'test.png'\n",
    "image = cv2.imread(image_path, cv2.IMREAD_COLOR)\n",
    "\n",
    "# 转换为灰度图像\n",
    "gray_image = cv2.cvtColor(image, cv2.COLOR_BGR2GRAY)\n",
    "\n",
    "# 应用阈值操作进行二值化\n",
    "_, binary_image = cv2.threshold(gray_image, 127, 255, cv2.THRESH_BINARY)\n",
    "\n",
    "# 查找轮廓\n",
    "contours, _ = cv2.findContours(binary_image, cv2.RETR_EXTERNAL, cv2.CHAIN_APPROX_SIMPLE)\n",
    "\n",
    "# 初始化一个列表来存储Blob特征\n",
    "blobs = []\n",
    "\n",
    "# 遍历所有轮廓\n",
    "for contour in contours:\n",
    "    # 计算轮廓的面积\n",
    "    area = cv2.contourArea(contour)\n",
    "    \n",
    "    # 忽略小区域\n",
    "    if area < 500:\n",
    "        continue\n",
    "    \n",
    "    # 计算轮廓的近似（如使用最小边界框）\n",
    "    x, y, w, h = cv2.boundingRect(contour)\n",
    "    \n",
    "    # 计算质心\n",
    "    moments = cv2.moments(contour)\n",
    "    center_x = int(moments['m10'] / moments['m00'])\n",
    "    center_y = int(moments['m01'] / moments['m00'])\n",
    "    \n",
    "    # 添加Blob特征到列表\n",
    "    blobs.append({\n",
    "        'area': area,\n",
    "        'bounding_box': (x, y, w, h),\n",
    "        'center': (center_x, center_y)\n",
    "    })\n",
    "\n",
    "# 打印或处理Blob特征\n",
    "for blob in blobs:\n",
    "    print(blob)\n",
    "\n",
    "# 显示结果\n",
    "cv2.imwrite('binary_image.jpg', binary_image)\n"
   ]
  }
 ],
 "metadata": {
  "kernelspec": {
   "display_name": "py39",
   "language": "python",
   "name": "python3"
  },
  "language_info": {
   "codemirror_mode": {
    "name": "ipython",
    "version": 3
   },
   "file_extension": ".py",
   "mimetype": "text/x-python",
   "name": "python",
   "nbconvert_exporter": "python",
   "pygments_lexer": "ipython3",
   "version": "3.10.13"
  }
 },
 "nbformat": 4,
 "nbformat_minor": 2
}
