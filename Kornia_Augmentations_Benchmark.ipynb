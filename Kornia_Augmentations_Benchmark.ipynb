{
  "nbformat": 4,
  "nbformat_minor": 0,
  "metadata": {
    "colab": {
      "provenance": [],
      "include_colab_link": true
    },
    "kernelspec": {
      "name": "python3",
      "display_name": "Python 3"
    },
    "language_info": {
      "name": "python"
    },
    "accelerator": "GPU"
  },
  "cells": [
    {
      "cell_type": "markdown",
      "metadata": {
        "id": "view-in-github",
        "colab_type": "text"
      },
      "source": [
        "<a href=\"https://colab.research.google.com/github/xbkaishui/cv_tools_box/blob/main/Kornia_Augmentations_Benchmark.ipynb\" target=\"_parent\"><img src=\"https://colab.research.google.com/assets/colab-badge.svg\" alt=\"Open In Colab\"/></a>"
      ]
    },
    {
      "cell_type": "code",
      "metadata": {
        "id": "QbjSm7j9MLsh"
      },
      "source": [
        "%%capture\n",
        "!pip install git+https://github.com/kornia/kornia git+https://github.com/albumentations-team/albumentations"
      ],
      "execution_count": null,
      "outputs": []
    },
    {
      "cell_type": "code",
      "metadata": {
        "id": "6Paq7_bzt5BR",
        "colab": {
          "base_uri": "https://localhost:8080/"
        },
        "outputId": "1b6bd049-abd4-4d27-c859-69219ff6abcb"
      },
      "source": [
        "import timeit\n",
        "import os\n",
        "import numpy as np\n",
        "import pandas as pd\n",
        "import torch\n",
        "\n",
        "\n",
        "general_setup = lambda batch_size, img_size: f\"\"\"\n",
        "import torch\n",
        "import kornia\n",
        "from torchvision.transforms import transforms\n",
        "import albumentations.augmentations as A\n",
        "in_tensor = torch.randn({batch_size}, 3, {img_size}, {img_size}).to('cuda:0')\n",
        "in_pil = transforms.ToPILImage()(in_tensor.cpu()[0])\n",
        "\"\"\"\n",
        "\n",
        "perspective_setup = \"\"\"\n",
        "tv_fn = transforms.RandomPerspective(p=1.0)\n",
        "kor_fn = kornia.augmentation.RandomPerspective(p=1.0)\n",
        "alb_fn = A.geometric.transforms.Perspective(p=1.)\n",
        "\"\"\"\n",
        "\n",
        "colorjitter_setup = \"\"\"\n",
        "tv_fn = transforms.ColorJitter(brightness=0.5, contrast=0.5, saturation=0.5, hue=0.2)\n",
        "kor_fn = kornia.augmentation.ColorJitter(0.5, 0.5, 0.5, 0.5)\n",
        "alb_fn = A.transforms.ColorJitter(0.5, 0.5, 0.5, 0.5, p=1.)\n",
        "\"\"\"\n",
        "\n",
        "affine_setup = \"\"\"\n",
        "tv_fn = transforms.RandomAffine(360, (0.1, 0.1), (1.1, 1.2), (0.1, 0.1), resample=2)\n",
        "kor_fn = kornia.augmentation.RandomAffine(360, (0.1, 0.1), (1.1, 1.2), (0.1, 0.1))\n",
        "alb_fn = A.geometric.transforms.Affine(scale=(1.1, 1.2), translate_percent=0.1, rotate=360, shear=45, p=1.)\n",
        "\"\"\"\n",
        "\n",
        "vflip_setup = \"\"\"\n",
        "tv_fn = transforms.RandomVerticalFlip(p=1.0)\n",
        "kor_fn = kornia.augmentation.RandomVerticalFlip(p=1.0)\n",
        "alb_fn = A.transforms.VerticalFlip(p=1.)\n",
        "\"\"\"\n",
        "\n",
        "hflip_setup = \"\"\"\n",
        "tv_fn = transforms.RandomHorizontalFlip(p=1.0)\n",
        "kor_fn = kornia.augmentation.RandomHorizontalFlip(p=1.0)\n",
        "alb_fn = A.transforms.HorizontalFlip(p=1.)\n",
        "\"\"\"\n",
        "\n",
        "rotate_setup = \"\"\"\n",
        "tv_fn = transforms.RandomRotation(180, resample=2)\n",
        "kor_fn = kornia.augmentation.RandomRotation(180.)\n",
        "alb_fn = A.geometric.rotate.Rotate(180., p=1.)\n",
        "\"\"\"\n",
        "\n",
        "crop_setup = \"\"\"\n",
        "tv_fn = transforms.RandomCrop((180, 180))\n",
        "kor_fn = kornia.augmentation.RandomCrop((180, 180))\n",
        "alb_fn = A.crops.transforms.RandomCrop(180, 180, p=1.)\n",
        "\"\"\"\n",
        "\n",
        "erasing_setup = \"\"\"\n",
        "tv_fn = transforms.RandomErasing(p=1.0)\n",
        "kor_fn = kornia.augmentation.RandomErasing(p=1.0, scale=(0.02, 0.33), ratio= (0.3, 3.3))\n",
        "\"\"\"\n",
        "\n",
        "grayscale_setup = \"\"\"\n",
        "tv_fn = transforms.RandomGrayscale(p=1.0)\n",
        "kor_fn = kornia.augmentation.RandomGrayscale(p=1.0)\n",
        "alb_fn = A.ToGray(p=1.)\n",
        "\"\"\"\n",
        "\n",
        "res_crop_setup = \"\"\"\n",
        "tv_fn = transforms.RandomResizedCrop((180, 180))\n",
        "kor_fn = kornia.augmentation.RandomResizedCrop((180, 180), (0.08, 1.0), (0.75, 1.33))\n",
        "alb_fn = A.crops.transforms.RandomResizedCrop(180, 180, (0.08, 1.0), (0.75, 1.33), p=1.)\n",
        "\"\"\"\n",
        "\n",
        "cent_crop_setup = \"\"\"\n",
        "tv_fn = transforms.CenterCrop((180, 180))\n",
        "kor_fn = kornia.augmentation.CenterCrop((180, 180))\n",
        "alb_fn = A.crops.transforms.CenterCrop(180, 180, p=1.)\n",
        "\"\"\"\n",
        "\n",
        "\n",
        "if __name__ == '__main__':\n",
        "    save_to = \"data\"\n",
        "    num = 10\n",
        "\n",
        "    image_sizes = {\n",
        "        # Coefficients:   size\n",
        "        'efficientnet-b0': 224,\n",
        "        # 'efficientnet-b1': 240,\n",
        "        # 'efficientnet-b2': 260,\n",
        "        # 'efficientnet-b3': 300,\n",
        "        # 'efficientnet-b4': 380,\n",
        "        # 'efficientnet-b5': 456,\n",
        "        # 'efficientnet-b6': 528,\n",
        "        # 'efficientnet-b7': 600,\n",
        "    }\n",
        "    fn_set_ups = {\n",
        "        'RandomPerspective': perspective_setup,\n",
        "        'ColorJitter': colorjitter_setup,\n",
        "        'RandomAffine': affine_setup,\n",
        "        'RandomVerticalFlip': vflip_setup,\n",
        "        'RandomHorizontalFlip': hflip_setup,\n",
        "        'RandomRotate': rotate_setup,\n",
        "        'RandomCrop': crop_setup,\n",
        "        'RandomErasing': erasing_setup,\n",
        "        'RandomGrayscale': grayscale_setup,\n",
        "        'RandomResizedCrop': res_crop_setup,\n",
        "        'RandomCenterCrop': cent_crop_setup\n",
        "    }\n",
        "\n",
        "    tv_timer = lambda batch_size, net, name: timeit.Timer(\n",
        "        f\"[tv_fn({'in_tensor[0].squeeze()' if name == 'RandomErasing' else 'in_pil'}) for _ in range({batch_size * num})]\" ,\n",
        "        setup=general_setup(batch_size, image_sizes[net]) + fn_set_ups[name]\n",
        "    )\n",
        "\n",
        "    alb_timer = lambda batch_size, net, name: timeit.Timer(\n",
        "        f\"[alb_fn({'in_tensor[0].squeeze().cpu().numpy().data'}) for _ in range({batch_size * num})]\" ,\n",
        "        setup=general_setup(batch_size, image_sizes[net]) + fn_set_ups[name]\n",
        "    )\n",
        "\n",
        "    kor_timer = lambda batch_size, net, name: timeit.Timer(\n",
        "        f\"[kor_fn(in_tensor) for _ in range({num})]\",\n",
        "        setup=general_setup(batch_size, image_sizes[net]) + fn_set_ups[name]\n",
        "    )\n",
        "\n",
        "    try:\n",
        "        os.mkdir(save_to)\n",
        "    except:\n",
        "        pass\n",
        "\n",
        "    for timer_name, batch_size, timer in [\n",
        "          (\"torchvision\", 1, tv_timer),\n",
        "          (\"albumentations\", 1, alb_timer),\n",
        "          (\"kornia\", 1, kor_timer),\n",
        "          (\"kornia\", 32, kor_timer),\n",
        "          (\"kornia\", 128, kor_timer),\n",
        "    ]:\n",
        "        dfs = []\n",
        "        for name in fn_set_ups:\n",
        "            row_res = {'op_name': name}\n",
        "            for net in image_sizes:\n",
        "                timer = kor_timer(batch_size, net, name)\n",
        "                timer_res = timer.repeat(num, 1)\n",
        "\n",
        "                row_res.update({net: np.mean(timer_res) / num / batch_size * 1000})\n",
        "                print(timer_name, name, net, \"image_size=%d\" % image_sizes[net], \"batchsize=%d\" % batch_size, \"%.2f±%.2fms\" % (np.mean(timer_res) / num / batch_size * 1000, np.std(timer_res) * 1000))\n",
        "            dfs.append(pd.DataFrame.from_dict(row_res, orient='index').T)\n",
        "        df = pd.concat(dfs)\n",
        "        df.to_csv(f\"{save_to}/{timer_name}_bs{batch_size}.csv\", index=None)\n",
        "\n",
        "        with torch.no_grad():\n",
        "            torch.cuda.empty_cache()"
      ],
      "execution_count": null,
      "outputs": [
        {
          "output_type": "stream",
          "name": "stderr",
          "text": [
            "/usr/local/lib/python3.7/dist-packages/torch/functional.py:445: UserWarning: torch.meshgrid: in an upcoming release, it will be required to pass the indexing argument. (Triggered internally at  ../aten/src/ATen/native/TensorShape.cpp:2157.)\n",
            "  return _VF.meshgrid(tensors, **kwargs)  # type: ignore[attr-defined]\n"
          ]
        },
        {
          "output_type": "stream",
          "name": "stdout",
          "text": [
            "torchvision RandomPerspective efficientnet-b0 image_size=224 batchsize=1 9.13±125.09ms\n",
            "torchvision ColorJitter efficientnet-b0 image_size=224 batchsize=1 4.77±7.26ms\n"
          ]
        },
        {
          "output_type": "stream",
          "name": "stderr",
          "text": [
            "/usr/local/lib/python3.7/dist-packages/torchvision/transforms/transforms.py:1362: UserWarning: Argument resample is deprecated and will be removed since v0.10.0. Please, use interpolation instead\n",
            "  \"Argument resample is deprecated and will be removed since v0.10.0. Please, use interpolation instead\"\n"
          ]
        },
        {
          "output_type": "stream",
          "name": "stdout",
          "text": [
            "torchvision RandomAffine efficientnet-b0 image_size=224 batchsize=1 3.02±5.61ms\n",
            "torchvision RandomVerticalFlip efficientnet-b0 image_size=224 batchsize=1 0.35±0.40ms\n",
            "torchvision RandomHorizontalFlip efficientnet-b0 image_size=224 batchsize=1 0.35±0.63ms\n"
          ]
        },
        {
          "output_type": "stream",
          "name": "stderr",
          "text": [
            "/usr/local/lib/python3.7/dist-packages/torchvision/transforms/transforms.py:1249: UserWarning: Argument resample is deprecated and will be removed since v0.10.0. Please, use interpolation instead\n",
            "  \"Argument resample is deprecated and will be removed since v0.10.0. Please, use interpolation instead\"\n"
          ]
        },
        {
          "output_type": "stream",
          "name": "stdout",
          "text": [
            "torchvision RandomRotate efficientnet-b0 image_size=224 batchsize=1 2.00±5.02ms\n",
            "torchvision RandomCrop efficientnet-b0 image_size=224 batchsize=1 4.37±6.20ms\n",
            "torchvision RandomErasing efficientnet-b0 image_size=224 batchsize=1 2.68±6.66ms\n",
            "torchvision RandomGrayscale efficientnet-b0 image_size=224 batchsize=1 0.49±0.86ms\n",
            "torchvision RandomResizedCrop efficientnet-b0 image_size=224 batchsize=1 4.83±10.45ms\n",
            "torchvision RandomCenterCrop efficientnet-b0 image_size=224 batchsize=1 2.98±0.64ms\n",
            "albumentations RandomPerspective efficientnet-b0 image_size=224 batchsize=1 5.31±5.38ms\n",
            "albumentations ColorJitter efficientnet-b0 image_size=224 batchsize=1 4.32±2.97ms\n",
            "albumentations RandomAffine efficientnet-b0 image_size=224 batchsize=1 3.57±2.90ms\n",
            "albumentations RandomVerticalFlip efficientnet-b0 image_size=224 batchsize=1 0.34±0.23ms\n",
            "albumentations RandomHorizontalFlip efficientnet-b0 image_size=224 batchsize=1 0.33±0.11ms\n",
            "albumentations RandomRotate efficientnet-b0 image_size=224 batchsize=1 1.73±2.79ms\n",
            "albumentations RandomCrop efficientnet-b0 image_size=224 batchsize=1 4.54±5.38ms\n",
            "albumentations RandomErasing efficientnet-b0 image_size=224 batchsize=1 2.59±2.57ms\n",
            "albumentations RandomGrayscale efficientnet-b0 image_size=224 batchsize=1 0.49±0.68ms\n",
            "albumentations RandomResizedCrop efficientnet-b0 image_size=224 batchsize=1 4.50±3.12ms\n",
            "albumentations RandomCenterCrop efficientnet-b0 image_size=224 batchsize=1 3.30±3.22ms\n",
            "new_kornia RandomPerspective efficientnet-b0 image_size=224 batchsize=1 5.25±3.03ms\n",
            "new_kornia ColorJitter efficientnet-b0 image_size=224 batchsize=1 4.43±3.74ms\n",
            "new_kornia RandomAffine efficientnet-b0 image_size=224 batchsize=1 3.04±2.23ms\n",
            "new_kornia RandomVerticalFlip efficientnet-b0 image_size=224 batchsize=1 0.35±0.19ms\n",
            "new_kornia RandomHorizontalFlip efficientnet-b0 image_size=224 batchsize=1 0.38±1.34ms\n",
            "new_kornia RandomRotate efficientnet-b0 image_size=224 batchsize=1 2.09±5.17ms\n",
            "new_kornia RandomCrop efficientnet-b0 image_size=224 batchsize=1 4.03±1.52ms\n",
            "new_kornia RandomErasing efficientnet-b0 image_size=224 batchsize=1 2.55±3.07ms\n",
            "new_kornia RandomGrayscale efficientnet-b0 image_size=224 batchsize=1 0.54±0.49ms\n",
            "new_kornia RandomResizedCrop efficientnet-b0 image_size=224 batchsize=1 4.82±7.85ms\n",
            "new_kornia RandomCenterCrop efficientnet-b0 image_size=224 batchsize=1 3.03±1.40ms\n",
            "new_kornia RandomPerspective efficientnet-b0 image_size=224 batchsize=32 0.40±5.17ms\n",
            "new_kornia ColorJitter efficientnet-b0 image_size=224 batchsize=32 0.91±25.55ms\n",
            "new_kornia RandomAffine efficientnet-b0 image_size=224 batchsize=32 0.31±3.58ms\n",
            "new_kornia RandomVerticalFlip efficientnet-b0 image_size=224 batchsize=32 0.02±0.47ms\n",
            "new_kornia RandomHorizontalFlip efficientnet-b0 image_size=224 batchsize=32 0.02±0.46ms\n",
            "new_kornia RandomRotate efficientnet-b0 image_size=224 batchsize=32 0.30±2.59ms\n",
            "new_kornia RandomCrop efficientnet-b0 image_size=224 batchsize=32 0.18±4.99ms\n",
            "new_kornia RandomErasing efficientnet-b0 image_size=224 batchsize=32 0.50±4.39ms\n",
            "new_kornia RandomGrayscale efficientnet-b0 image_size=224 batchsize=32 0.04±0.11ms\n",
            "new_kornia RandomResizedCrop efficientnet-b0 image_size=224 batchsize=32 0.27±6.94ms\n",
            "new_kornia RandomCenterCrop efficientnet-b0 image_size=224 batchsize=32 0.15±4.23ms\n",
            "new_kornia RandomPerspective efficientnet-b0 image_size=224 batchsize=128 0.20±18.33ms\n",
            "new_kornia ColorJitter efficientnet-b0 image_size=224 batchsize=128 0.83±12.49ms\n",
            "new_kornia RandomAffine efficientnet-b0 image_size=224 batchsize=128 0.19±6.64ms\n",
            "new_kornia RandomVerticalFlip efficientnet-b0 image_size=224 batchsize=128 0.01±0.29ms\n",
            "new_kornia RandomHorizontalFlip efficientnet-b0 image_size=224 batchsize=128 0.01±0.63ms\n",
            "new_kornia RandomRotate efficientnet-b0 image_size=224 batchsize=128 0.17±4.39ms\n",
            "new_kornia RandomCrop efficientnet-b0 image_size=224 batchsize=128 0.08±18.73ms\n",
            "new_kornia RandomErasing efficientnet-b0 image_size=224 batchsize=128 0.55±10.89ms\n",
            "new_kornia RandomGrayscale efficientnet-b0 image_size=224 batchsize=128 0.03±7.53ms\n",
            "new_kornia RandomResizedCrop efficientnet-b0 image_size=224 batchsize=128 0.15±12.25ms\n",
            "new_kornia RandomCenterCrop efficientnet-b0 image_size=224 batchsize=128 0.07±5.85ms\n"
          ]
        }
      ]
    },
    {
      "cell_type": "code",
      "metadata": {
        "id": "Kf2208JXUKuX"
      },
      "source": [],
      "execution_count": null,
      "outputs": []
    }
  ]
}