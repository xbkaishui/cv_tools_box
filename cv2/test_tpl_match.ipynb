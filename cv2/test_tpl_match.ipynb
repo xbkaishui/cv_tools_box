{
 "cells": [
  {
   "cell_type": "code",
   "execution_count": 2,
   "metadata": {},
   "outputs": [],
   "source": [
    "import cv2\n",
    "from imutils.object_detection import non_max_suppression # pip install imutils\n",
    "from loguru import logger\n",
    "import numpy as np"
   ]
  },
  {
   "cell_type": "code",
   "execution_count": 15,
   "metadata": {},
   "outputs": [
    {
     "name": "stdout",
     "output_type": "stream",
     "text": [
      "Looking in indexes: https://pypi.tuna.tsinghua.edu.cn/simple\n",
      "Requirement already satisfied: imutils in /Users/xbkaishui/.conda/envs/py39/lib/python3.9/site-packages (0.5.4)\n"
     ]
    }
   ],
   "source": [
    "!pip install imutils"
   ]
  },
  {
   "cell_type": "code",
   "execution_count": 22,
   "metadata": {},
   "outputs": [
    {
     "name": "stdout",
     "output_type": "stream",
     "text": [
      "12986\n"
     ]
    }
   ],
   "source": [
    "img_path = '/tmp/sanrezhen.jpg'\n",
    "template_path = '/tmp/sanrezhen_template.jpg'\n",
    "template_path = '/Users/xbkaishui/opensource/cv_hz/app_backend/backend/app/app/tests/api/api_v1/sanrezhen_template2.jpg'\n",
    "template_path = '/Users/xbkaishui/opensource/cv_hz/app_backend/backend/app/app/tests/api/api_v1/sanrezhen_template.jpg'\n",
    "  # Load the image and template\n",
    "image = cv2.imread(img_path, cv2.IMREAD_COLOR)\n",
    "template = cv2.imread(template_path, cv2.IMREAD_COLOR)\n",
    "  \n",
    "  # Perform template matching \n",
    "result = cv2.matchTemplate(image, template, cv2.TM_CCOEFF_NORMED)\n",
    "  \n",
    "  # Filter results to only good ones\n",
    "threshold = 0.4 # Larger values have less, but better matches.\n",
    "(yCoords, xCoords) = np.where(result >= threshold)\n",
    "\n",
    "print(len(yCoords))\n",
    "# sort by score\n",
    "\n",
    "# Perform non-maximum suppression.\n",
    "template_h, template_w = template.shape[:2]\n",
    "rects = []\n",
    "probs = []\n",
    "for (x, y) in zip(xCoords, yCoords):\n",
    "    rects.append((x, y, x + template_w, y + template_h))\n",
    "    probs.append(result[y, x])\n",
    "pick = non_max_suppression(np.array(rects), probs=np.array(probs), overlapThresh=.4)\n",
    "\n",
    "# Optional: Visualize the results\n",
    "for (startX, startY, endX, endY) in pick:\n",
    "    cv2.rectangle(image, (startX, startY), (endX, endY),(0, 255, 0), 2)\n",
    "cv2.imwrite('/tmp/sanrezhen_result.jpg', image)\n",
    "cv2.imshow('Results', image)"
   ]
  },
  {
   "cell_type": "code",
   "execution_count": 3,
   "metadata": {},
   "outputs": [
    {
     "name": "stdout",
     "output_type": "stream",
     "text": [
      "(3230136,)\n"
     ]
    }
   ],
   "source": [
    "img_path = '/tmp/sanrezhen.jpg'\n",
    "template_path = '/tmp/sanrezhen_template.jpg'\n",
    "  # Load the image and template\n",
    "image = cv2.imread(img_path, cv2.IMREAD_COLOR)\n",
    "template = cv2.imread(template_path, cv2.IMREAD_COLOR)\n",
    "  \n",
    "# Perform template matching \n",
    "result = cv2.matchTemplate(image, template, cv2.TM_CCOEFF_NORMED)\n",
    "\n",
    "result2 = np.reshape(result, result.shape[0]*result.shape[1])\n",
    "sort = np.argsort(result2)\n",
    "(y,x) = np.unravel_index(sort, result.shape)\n",
    "print(y.shape)\n"
   ]
  },
  {
   "cell_type": "code",
   "execution_count": 26,
   "metadata": {},
   "outputs": [
    {
     "name": "stderr",
     "output_type": "stream",
     "text": [
      "2023-12-25 09:10:06.952 | INFO     | __main__:<module>:34 - total cost 22848.506927490234\n"
     ]
    }
   ],
   "source": [
    "# test performance\n",
    "import time\n",
    "img_path = '/tmp/sanrezhen.jpg'\n",
    "template_path = '/tmp/sanrezhen_template.jpg'\n",
    "template_path = '/Users/xbkaishui/opensource/cv_hz/app_backend/backend/app/app/tests/api/api_v1/sanrezhen_template2.jpg'\n",
    "template_path = '/Users/xbkaishui/opensource/cv_hz/app_backend/backend/app/app/tests/api/api_v1/sanrezhen_template.jpg'\n",
    "  # Load the image and template\n",
    "image = cv2.imread(img_path, cv2.IMREAD_COLOR)\n",
    "template = cv2.imread(template_path, cv2.IMREAD_COLOR)\n",
    "\n",
    "start = time.time()\n",
    "count = 100\n",
    "for i in range(count):\n",
    "  # Perform template matching \n",
    "    result = cv2.matchTemplate(image, template, cv2.TM_CCOEFF_NORMED)\n",
    "    \n",
    "    # Filter results to only good ones\n",
    "    threshold = 0.4 # Larger values have less, but better matches.\n",
    "    (yCoords, xCoords) = np.where(result >= threshold)\n",
    "\n",
    "    # print(len(yCoords))\n",
    "    # sort by score\n",
    "\n",
    "    # Perform non-maximum suppression.\n",
    "    template_h, template_w = template.shape[:2]\n",
    "    rects = []\n",
    "    probs = []\n",
    "    for (x, y) in zip(xCoords, yCoords):\n",
    "        rects.append((x, y, x + template_w, y + template_h))\n",
    "        probs.append(result[y, x])\n",
    "    pick = non_max_suppression(np.array(rects), probs=np.array(probs), overlapThresh=.4)\n",
    "\n",
    "end = time.time()\n",
    "logger.info(\"total cost {}\", (end-start)*1000)\n",
    "\n",
    "# Optional: Visualize the results\n",
    "for (startX, startY, endX, endY) in pick:\n",
    "    cv2.rectangle(image, (startX, startY), (endX, endY),(0, 255, 0), 2)\n",
    "cv2.imwrite('/tmp/sanrezhen_result.jpg', image)\n",
    "cv2.imshow('Results', image)"
   ]
  },
  {
   "cell_type": "code",
   "execution_count": 27,
   "metadata": {},
   "outputs": [],
   "source": [
    "def rotate_image(image, angle):\n",
    "    height, width = image.shape[:2]\n",
    "    image_center = (width / 2, height / 2)\n",
    "    rotation_mat = cv2.getRotationMatrix2D(image_center, angle, 1.)\n",
    "    abs_cos = abs(rotation_mat[0, 0])\n",
    "    abs_sin = abs(rotation_mat[0, 1])\n",
    "    bound_w = int(height * abs_sin + width * abs_cos)\n",
    "    bound_h = int(height * abs_cos + width * abs_sin)\n",
    "    rotation_mat[0, 2] += bound_w / 2 - image_center[0]\n",
    "    rotation_mat[1, 2] += bound_h / 2 - image_center[1]\n",
    "    rotated_image = cv2.warpAffine(image, rotation_mat, (bound_w, bound_h), borderMode=cv2.BORDER_REPLICATE)\n",
    "    return rotated_image"
   ]
  },
  {
   "cell_type": "code",
   "execution_count": 28,
   "metadata": {},
   "outputs": [
    {
     "name": "stdout",
     "output_type": "stream",
     "text": [
      "(257, 229, 3)\n"
     ]
    },
    {
     "data": {
      "text/plain": [
       "True"
      ]
     },
     "execution_count": 28,
     "metadata": {},
     "output_type": "execute_result"
    }
   ],
   "source": [
    "# test rotation \n",
    "template_path = '/tmp/sanrezhen_template.jpg'\n",
    "img = cv2.imread(template_path)\n",
    "rot_img = rotate_image(img, 30)\n",
    "print(rot_img.shape)\n",
    "cv2.imwrite('/tmp/sanrezhen_template_rot.jpg', rot_img)"
   ]
  }
 ],
 "metadata": {
  "kernelspec": {
   "display_name": "py39",
   "language": "python",
   "name": "python3"
  },
  "language_info": {
   "codemirror_mode": {
    "name": "ipython",
    "version": 3
   },
   "file_extension": ".py",
   "mimetype": "text/x-python",
   "name": "python",
   "nbconvert_exporter": "python",
   "pygments_lexer": "ipython3",
   "version": "3.9.0"
  }
 },
 "nbformat": 4,
 "nbformat_minor": 2
}
