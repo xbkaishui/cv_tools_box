{
 "cells": [
  {
   "cell_type": "code",
   "execution_count": 1,
   "metadata": {},
   "outputs": [],
   "source": [
    "import cv2\n",
    "import numpy as np\n"
   ]
  },
  {
   "cell_type": "code",
   "execution_count": 2,
   "metadata": {},
   "outputs": [],
   "source": [
    "\n",
    "# 读取二值化后的灰度图\n",
    "image = cv2.imread('/tmp/seg02_mask.png', cv2.IMREAD_GRAYSCALE)\n",
    "\n",
    "# 寻找轮廓\n",
    "contours, hierarchy = cv2.findContours(image, cv2.RETR_EXTERNAL, cv2.CHAIN_APPROX_SIMPLE)"
   ]
  },
  {
   "cell_type": "code",
   "execution_count": 3,
   "metadata": {},
   "outputs": [
    {
     "data": {
      "text/plain": [
       "True"
      ]
     },
     "execution_count": 3,
     "metadata": {},
     "output_type": "execute_result"
    }
   ],
   "source": [
    "\n",
    "# 创建一个空白图像，用于绘制轮廓\n",
    "contour_image = np.zeros_like(image)\n",
    "\n",
    "# 绘制轮廓\n",
    "cv2.drawContours(contour_image, contours, -1, (255, 255, 255), 2)\n",
    "\n",
    "# # 显示结果\n",
    "# cv2.imshow('Contours', contour_image)\n",
    "# cv2.waitKey(0)\n",
    "# cv2.destroyAllWindows()\n",
    "cv2.imwrite(\"cont.png\", contour_image)"
   ]
  },
  {
   "cell_type": "code",
   "execution_count": 4,
   "metadata": {},
   "outputs": [
    {
     "ename": "",
     "evalue": "",
     "output_type": "error",
     "traceback": [
      "\u001b[1;31m在当前单元格或上一个单元格中执行代码时 Kernel 崩溃。请查看单元格中的代码，以确定故障的可能原因。有关详细信息，请单击 <a href='https://aka.ms/vscodeJupyterKernelCrash'>此处</a>。有关更多详细信息，请查看 Jupyter <a href='command:jupyter.viewOutput'>log</a>。"
     ]
    }
   ],
   "source": [
    "\n",
    "# 创建一个空白图像，用于绘制轮廓\n",
    "contour_image = np.zeros_like(image)\n",
    "\n",
    "# 遍历每个轮廓\n",
    "for contour in contours:\n",
    "    # 将轮廓近似为多边形\n",
    "    epsilon = 0.02 * cv2.arcLength(contour, True)  # 0.02是一个调整参数，可以根据实际情况调整\n",
    "    approx_polygon = cv2.approxPolyDP(contour, epsilon, True)\n",
    "\n",
    "    # 绘制多边形\n",
    "    cv2.drawContours(contour_image, [approx_polygon], -1, (255, 255, 255), 2)\n",
    "\n",
    "cv2.imwrite(\"cont_2.png\", contour_image)\n",
    "# 显示结果\n",
    "# cv2.imshow('Contours with Polygons', contour_image)\n",
    "# cv2.waitKey(0)\n",
    "# cv2.destroyAllWindows()\n"
   ]
  }
 ],
 "metadata": {
  "kernelspec": {
   "display_name": "py39",
   "language": "python",
   "name": "python3"
  },
  "language_info": {
   "codemirror_mode": {
    "name": "ipython",
    "version": 3
   },
   "file_extension": ".py",
   "mimetype": "text/x-python",
   "name": "python",
   "nbconvert_exporter": "python",
   "pygments_lexer": "ipython3",
   "version": "3.9.16"
  }
 },
 "nbformat": 4,
 "nbformat_minor": 2
}
