{
 "cells": [
  {
   "cell_type": "code",
   "execution_count": 1,
   "metadata": {},
   "outputs": [],
   "source": [
    "import cv2\n",
    "from loguru import logger"
   ]
  },
  {
   "cell_type": "code",
   "execution_count": 5,
   "metadata": {},
   "outputs": [
    {
     "data": {
      "text/plain": [
       "True"
      ]
     },
     "execution_count": 5,
     "metadata": {},
     "output_type": "execute_result"
    }
   ],
   "source": [
    "# read kz.png \n",
    "img = cv2.imread('kz2.png')\n",
    "# convert to gray\n",
    "gray = cv2.cvtColor(img, cv2.COLOR_BGR2GRAY)\n",
    "# threshold\n",
    "_, binary = cv2.threshold(gray, 0, 255, cv2.THRESH_BINARY | cv2.THRESH_OTSU)\n",
    "# show binary \n",
    "# cv2.imshow('binary', binary)\n",
    "# cv2.waitKey(0)\n",
    "# cv2.destroyAllWindows()\n",
    "# save to binary.png\n",
    "cv2.imwrite('binary_2.png', binary)"
   ]
  },
  {
   "cell_type": "code",
   "execution_count": 11,
   "metadata": {},
   "outputs": [
    {
     "data": {
      "text/plain": [
       "[<matplotlib.lines.Line2D at 0x1438b84f0>]"
      ]
     },
     "execution_count": 11,
     "metadata": {},
     "output_type": "execute_result"
    },
    {
     "data": {
      "image/png": "[encoded data removed]",
      "text/plain": [
       "<Figure size 640x480 with 1 Axes>"
      ]
     },
     "metadata": {},
     "output_type": "display_data"
    }
   ],
   "source": [
    "import cv2\n",
    "import numpy as np\n",
    "\n",
    "# 读取图像\n",
    "image = cv2.imread('kz2.png')\n",
    "\n",
    "# 转换为灰度图像\n",
    "gray = cv2.cvtColor(image, cv2.COLOR_BGR2GRAY)\n",
    "\n",
    "hist = cv2.calcHist([gray], [0], None, [256], [0, 256])  # 性能：0.025288 s\n",
    "\n",
    "from matplotlib import pyplot as plt\n",
    "plt.hist(gray.ravel(), 256, [0, 256])\n",
    "plt.plot(hist)\n",
    "# plt.plot(gray)"
   ]
  },
  {
   "cell_type": "code",
   "execution_count": 12,
   "metadata": {},
   "outputs": [
    {
     "name": "stdout",
     "output_type": "stream",
     "text": [
      "98\n"
     ]
    }
   ],
   "source": [
    "# hist.max()\n",
    "# calc mean hist value\n",
    "# mean_hist = np.mean(hist)\n",
    "# mean_hist\n",
    "# calc mean value\n",
    "half_num = image.shape[0] * image.shape[1] / 2\n",
    "tmp_sum = 0\n",
    "median_val = 0\n",
    "for i in range(0, 256):\n",
    "    tmp_sum = tmp_sum + hist[i]\n",
    "    if tmp_sum > half_num:\n",
    "        print(i)\n",
    "        median_val = i \n",
    "        break"
   ]
  },
  {
   "cell_type": "code",
   "execution_count": 23,
   "metadata": {},
   "outputs": [],
   "source": [
    "def get_image_median_val(gray_image):\n",
    "    hist = cv2.calcHist([gray_image], [0], None, [256], [0, 256])  # 性能：0.025288 s\n",
    "    half_num = gray_image.shape[0] * gray_image.shape[1] / 2\n",
    "    tmp_sum = 0\n",
    "    median_val = 0\n",
    "    for i in range(0, 256):\n",
    "        tmp_sum = tmp_sum + hist[i]\n",
    "        if tmp_sum > half_num:\n",
    "            print(i)\n",
    "            median_val = i \n",
    "            break\n",
    "    return median_val"
   ]
  },
  {
   "cell_type": "code",
   "execution_count": 42,
   "metadata": {},
   "outputs": [
    {
     "name": "stdout",
     "output_type": "stream",
     "text": [
      "86\n"
     ]
    },
    {
     "data": {
      "text/plain": [
       "True"
      ]
     },
     "execution_count": 42,
     "metadata": {},
     "output_type": "execute_result"
    }
   ],
   "source": [
    "import cv2\n",
    "import numpy as np\n",
    "\n",
    "# cany 定位算法自动设置预值 http://www.kerrywong.com/2009/05/07/canny-edge-detection-auto-thresholding/\n",
    "\n",
    "# 读取图像\n",
    "# image = cv2.imread('kz2.png')\n",
    "# image = cv2.imread('/tmp/008.png')\n",
    "# image = cv2.imread('/tmp/008_2.png')\n",
    "# image = cv2.imread('/tmp/003.png')\n",
    "image = cv2.imread('/tmp/001.png')\n",
    "# 转换为灰度图像\n",
    "gray = cv2.cvtColor(image, cv2.COLOR_BGR2GRAY)\n",
    "median_val = get_image_median_val(gray)\n",
    "# 使用高斯模糊去噪\n",
    "blurred = cv2.GaussianBlur(gray, (5, 5), 0)\n",
    "cv2.imwrite('blurred_2.png', blurred)\n",
    "# 使用Canny边缘检测\n",
    "edges = cv2.Canny(blurred, median_val * 0.6, median_val * 1.33)\n",
    "\n",
    "# 找到轮廓\n",
    "contours, _ = cv2.findContours(edges, cv2.RETR_EXTERNAL, cv2.CHAIN_APPROX_SIMPLE)\n",
    "\n",
    "# 遍历轮廓\n",
    "for contour in contours:\n",
    "    # 忽略小轮廓\n",
    "    if cv2.contourArea(contour) < 200:\n",
    "        continue\n",
    "    \n",
    "    # 获取轮廓的边界框\n",
    "    x, y, w, h = cv2.boundingRect(contour)\n",
    "    \n",
    "    # 在原图上绘制边界框\n",
    "    cv2.rectangle(image, (x, y), (x + w, y + h), (0, 255, 0), 2)\n",
    "\n",
    "cv2.imwrite('det_img.png', image)\n",
    "# 显示结果\n",
    "# cv2.imshow('Detected Text Location', image)\n",
    "# cv2.waitKey(0)\n",
    "# cv2.destroyAllWindows()\n"
   ]
  },
  {
   "cell_type": "markdown",
   "metadata": {},
   "source": []
  },
  {
   "cell_type": "code",
   "execution_count": null,
   "metadata": {},
   "outputs": [],
   "source": []
  }
 ],
 "metadata": {
  "kernelspec": {
   "display_name": "py39",
   "language": "python",
   "name": "python3"
  },
  "language_info": {
   "codemirror_mode": {
    "name": "ipython",
    "version": 3
   },
   "file_extension": ".py",
   "mimetype": "text/x-python",
   "name": "python",
   "nbconvert_exporter": "python",
   "pygments_lexer": "ipython3",
   "version": "3.9.16"
  }
 },
 "nbformat": 4,
 "nbformat_minor": 2
}
