{
 "cells": [
  {
   "cell_type": "code",
   "execution_count": 1,
   "metadata": {},
   "outputs": [
    {
     "name": "stdout",
     "output_type": "stream",
     "text": [
      "[(1301.0, 0.0), (1302.0, 0.0), (1303.0, 0.0), (1304.0, 0.0)]\n"
     ]
    },
    {
     "data": {
      "text/plain": [
       "True"
      ]
     },
     "execution_count": 1,
     "metadata": {},
     "output_type": "execute_result"
    }
   ],
   "source": [
    "import cv2\n",
    "import numpy as np\n",
    "import os\n",
    "from loguru import logger\n",
    "\n",
    "\n",
    "# cur_dir = os.path.dirname(os.path.abspath(__file__))\n",
    "cur_dir = '/Users/xbkaishui/opensource/cv_hz/cv_tools_box/cv2'\n",
    "# 读取原始图像和模板图像\n",
    "image = cv2.imread(f'{cur_dir}/6287898858c95101374c19d991057033.png', cv2.IMREAD_COLOR)\n",
    "template = cv2.imread(f'{cur_dir}/template_6287898858c95101374c19d991057033.png', cv2.IMREAD_COLOR)\n",
    "\n",
    "image_cp = image.copy()\n",
    "# 将图像和模板转换为灰度\n",
    "gray_image = cv2.cvtColor(image, cv2.COLOR_BGR2GRAY)\n",
    "gray_template = cv2.cvtColor(template, cv2.COLOR_BGR2GRAY)\n",
    "\n",
    "# 进行模板匹配\n",
    "result = cv2.matchTemplate(gray_image, gray_template, cv2.TM_CCOEFF)\n",
    "min_val, max_val, min_loc, max_loc = cv2.minMaxLoc(result)\n",
    "\n",
    " # multi target\n",
    "min_thresh = (max_val - 1e-6) * 0.99\n",
    "match_locations = np.where(result >= min_thresh)\n",
    "point_list = zip(match_locations[1], match_locations[0])\n",
    "point_list = [tuple(map(float, _)) for _ in point_list]\n",
    "\n",
    "print(point_list)\n",
    "\n",
    "# 获取匹配位置\n",
    "top_left = max_loc\n",
    "h, w = template.shape[:2]\n",
    "bottom_right = (top_left[0] + w, top_left[1] + h)\n",
    "\n",
    "# 在原始图像上绘制矩形\n",
    "cv2.rectangle(image, top_left, bottom_right, (0, 255, 0), 2)\n",
    "\n",
    "cv2.imwrite(f'{cur_dir}/rec_result.png', image)"
   ]
  },
  {
   "cell_type": "code",
   "execution_count": 5,
   "metadata": {},
   "outputs": [
    {
     "data": {
      "text/plain": [
       "True"
      ]
     },
     "execution_count": 5,
     "metadata": {},
     "output_type": "execute_result"
    }
   ],
   "source": [
    "# # 使用数组切片裁剪匹配区域\n",
    "# matched_region = image[top_left[1]:bottom_right[1], top_left[0]:bottom_right[0]]\n",
    "\n",
    "# # 转换匹配区域为灰度图\n",
    "# matched_gray = cv2.cvtColor(matched_region, cv2.COLOR_BGR2GRAY)\n",
    "\n",
    "# # 使用阈值处理图像\n",
    "# _, thresh = cv2.threshold(matched_gray, 128, 255, cv2.THRESH_BINARY)\n",
    "\n",
    "# # 寻找匹配区域的轮廓\n",
    "# contours, _ = cv2.findContours(thresh, cv2.RETR_EXTERNAL, cv2.CHAIN_APPROX_SIMPLE)\n",
    "\n",
    "\n",
    "# # 绘制外接多边形\n",
    "# for contour in contours:\n",
    "#     epsilon = 0.02 * cv2.arcLength(contour, True)\n",
    "#     approx = cv2.approxPolyDP(contour, epsilon, True)\n",
    "#     cv2.drawContours(matched_region, [approx], 0, (0, 0, 255), 2)\n",
    "\n",
    "# # 绘制轮廓\n",
    "# # cv2.drawContours(matched_region, contours, -1, (0, 0, 255), 2)\n",
    "# cv2.imwrite(f'{cur_dir}/matched_region.png', matched_region)"
   ]
  },
  {
   "cell_type": "code",
   "execution_count": 80,
   "metadata": {},
   "outputs": [
    {
     "data": {
      "text/plain": [
       "True"
      ]
     },
     "execution_count": 80,
     "metadata": {},
     "output_type": "execute_result"
    }
   ],
   "source": [
    "matched_region = image_cp[top_left[1]:bottom_right[1], top_left[0]:bottom_right[0] + 200]\n",
    "cv2.imwrite(f'{cur_dir}/matched_region2.png', matched_region)"
   ]
  },
  {
   "cell_type": "code",
   "execution_count": 67,
   "metadata": {},
   "outputs": [
    {
     "data": {
      "text/plain": [
       "True"
      ]
     },
     "execution_count": 67,
     "metadata": {},
     "output_type": "execute_result"
    }
   ],
   "source": [
    "# matched_region_2 = image_cp[top_left[1]:bottom_right[1], top_left[0]:bottom_right[0]]\n",
    "# cv2.imwrite(f'{cur_dir}/matched_region3.png', matched_region)"
   ]
  },
  {
   "cell_type": "code",
   "execution_count": 87,
   "metadata": {},
   "outputs": [],
   "source": [
    "# find layout\n",
    "detect_img = cv2.imread(f'{cur_dir}/matched_region2.png', cv2.IMREAD_COLOR)\n",
    "tmplate_img = cv2.imread(f'{cur_dir}/template_6287898858c95101374c19d991057033.png', cv2.IMREAD_COLOR)\n",
    "\n",
    "gray_template = cv2.cvtColor(tmplate_img, cv2.COLOR_BGR2GRAY)\n",
    "gray_detect = cv2.cvtColor(detect_img, cv2.COLOR_BGR2GRAY)\n",
    "\n",
    "# # 定义固定长度的边框大小（左、右、上、下）\n",
    "# top_pad, bottom_pad, left_pad, right_pad = 0, 0, 0, 200\n",
    "# # 使用copyMakeBorder函数添加边框\n",
    "# gray_template = cv2.copyMakeBorder(gray_template, top_pad, bottom_pad, left_pad, right_pad, cv2.BORDER_CONSTANT, value=[0, 0, 0])\n",
    "# print(gray_template.shape)\n",
    "# diff_img = gray_detect - gray_template\n",
    "# cv2.imwrite(f'{cur_dir}/diff_img.png', diff_img)"
   ]
  },
  {
   "cell_type": "code",
   "execution_count": 12,
   "metadata": {},
   "outputs": [
    {
     "data": {
      "text/plain": [
       "True"
      ]
     },
     "execution_count": 12,
     "metadata": {},
     "output_type": "execute_result"
    }
   ],
   "source": [
    "test_img = cv2.imread('/Users/xbkaishui/opensource/cv_hz/cv_tools_box/cv2/tmp_5.png')\n",
    "cv2.imwrite('/tmp/test.png', test_img)"
   ]
  },
  {
   "cell_type": "code",
   "execution_count": 16,
   "metadata": {},
   "outputs": [],
   "source": [
    "from PIL import Image\n",
    "Image.open('/Users/xbkaishui/opensource/cv_hz/cv_tools_box/cv2/tmp_5.png').convert('RGB').save('/tmp/test.jpg', 'JPEG')"
   ]
  },
  {
   "cell_type": "code",
   "execution_count": 17,
   "metadata": {},
   "outputs": [],
   "source": [
    "!open /tmp/test.jpg"
   ]
  },
  {
   "cell_type": "code",
   "execution_count": 11,
   "metadata": {},
   "outputs": [],
   "source": [
    "!open /tmp/test.png\n",
    "!rm -rf /tmp/test.png \n"
   ]
  },
  {
   "cell_type": "code",
   "execution_count": 78,
   "metadata": {},
   "outputs": [
    {
     "name": "stdout",
     "output_type": "stream",
     "text": [
      "(1363, 2445)\n"
     ]
    },
    {
     "ename": "ValueError",
     "evalue": "operands could not be broadcast together with shapes (1662,2445) (1363,2445) ",
     "output_type": "error",
     "traceback": [
      "\u001b[0;31m---------------------------------------------------------------------------\u001b[0m",
      "\u001b[0;31mValueError\u001b[0m                                Traceback (most recent call last)",
      "\u001b[1;32m/Users/xbkaishui/opensource/cv_hz/cv_tools_box/cv2/test.ipynb 单元格 6\u001b[0m line \u001b[0;36m1\n\u001b[1;32m      <a href='vscode-notebook-cell:/Users/xbkaishui/opensource/cv_hz/cv_tools_box/cv2/test.ipynb#X10sZmlsZQ%3D%3D?line=8'>9</a>\u001b[0m gray_template \u001b[39m=\u001b[39m cv2\u001b[39m.\u001b[39mcopyMakeBorder(gray_template, top_pad, bottom_pad, left_pad, right_pad, cv2\u001b[39m.\u001b[39mBORDER_CONSTANT, value\u001b[39m=\u001b[39m[\u001b[39m0\u001b[39m, \u001b[39m0\u001b[39m, \u001b[39m0\u001b[39m])\n\u001b[1;32m     <a href='vscode-notebook-cell:/Users/xbkaishui/opensource/cv_hz/cv_tools_box/cv2/test.ipynb#X10sZmlsZQ%3D%3D?line=9'>10</a>\u001b[0m \u001b[39mprint\u001b[39m(gray_template\u001b[39m.\u001b[39mshape)\n\u001b[0;32m---> <a href='vscode-notebook-cell:/Users/xbkaishui/opensource/cv_hz/cv_tools_box/cv2/test.ipynb#X10sZmlsZQ%3D%3D?line=10'>11</a>\u001b[0m diff_img \u001b[39m=\u001b[39m gray_detect \u001b[39m-\u001b[39;49m gray_template\n\u001b[1;32m     <a href='vscode-notebook-cell:/Users/xbkaishui/opensource/cv_hz/cv_tools_box/cv2/test.ipynb#X10sZmlsZQ%3D%3D?line=11'>12</a>\u001b[0m cv2\u001b[39m.\u001b[39mimwrite(\u001b[39mf\u001b[39m\u001b[39m'\u001b[39m\u001b[39m{\u001b[39;00mcur_dir\u001b[39m}\u001b[39;00m\u001b[39m/diff_img.png\u001b[39m\u001b[39m'\u001b[39m, diff_img)\n",
      "\u001b[0;31mValueError\u001b[0m: operands could not be broadcast together with shapes (1662,2445) (1363,2445) "
     ]
    }
   ],
   "source": [
    "# matched_region = image_cp[top_left[1]:bottom_right[1] + 1, top_left[0]:bottom_right[0]]\n",
    "\n",
    "gray_template = cv2.cvtColor(matched_region_2, cv2.COLOR_BGR2GRAY)\n",
    "gray_detect = cv2.cvtColor(matched_region, cv2.COLOR_BGR2GRAY)\n",
    "\n",
    "# 定义固定长度的边框大小（左、右、上、下）\n",
    "top_pad, bottom_pad, left_pad, right_pad = 1, 0, 0, 0\n",
    "# 使用copyMakeBorder函数添加边框\n",
    "gray_template = cv2.copyMakeBorder(gray_template, top_pad, bottom_pad, left_pad, right_pad, cv2.BORDER_CONSTANT, value=[0, 0, 0])\n",
    "print(gray_template.shape)\n",
    "diff_img = gray_detect - gray_template\n",
    "cv2.imwrite(f'{cur_dir}/diff_img.png', diff_img)"
   ]
  },
  {
   "cell_type": "code",
   "execution_count": 54,
   "metadata": {},
   "outputs": [
    {
     "name": "stdout",
     "output_type": "stream",
     "text": [
      "[ 31  32  33  34  35  36  37  38  39  40  41  42  43  44  45  46  47  48\n",
      "  49  50  51  52  53  54  55  56  57  58  59  60  61  62  63  64  65  66\n",
      "  67  68  69  70  71  72  73  74  75  76  77  78  79  80  81  82  83  84\n",
      "  85  86  87  88  89  90  91  92  93  94  95  96  97  98  99 100 101 102\n",
      " 103 104 105 106 107 108 109 110 111 112 113 114 115 116 117 118 119 120\n",
      " 121 122 123 124 125 126 127 128 129 130 131 132 133 134 135 136 137 138\n",
      " 139 140 141 142 143 144 145 146 147 148 149 150 151 152 153 154 155 156\n",
      " 157 158 159 160 161 162 163 164 165 166 167 168 169 170 171 172 173 174\n",
      " 175 176 177 178 179 180 181 182 183 184 185 186 187 188 189 190 191 192\n",
      " 193 194 195 196 197 198 199 200 201 202 203 204 205 206 207 208 209 210\n",
      " 211 212 213 214 215 216 217 218 219 220 221 222 223 224 225 226 227 228\n",
      " 229 230 231 232 233 234 235 236 237 238 239 240 241 242 243 244 245 246\n",
      " 247 248 249 250 251 252 253 254 255]\n",
      "[ 31  32  33  34  35  36  37  38  39  40  41  42  43  44  45  46  47  48\n",
      "  49  50  51  52  53  54  55  56  57  58  59  60  61  62  63  64  65  66\n",
      "  67  68  69  70  71  72  73  74  75  76  77  78  79  80  81  82  83  84\n",
      "  85  86  87  88  89  90  91  92  93  94  95  96  97  98  99 100 101 102\n",
      " 103 104 105 106 107 108 109 110 111 112 113 114 115 116 117 118 119 120\n",
      " 121 122 123 124 125 126 127 128 129 130 131 132 133 134 135 136 137 138\n",
      " 139 140 141 142 143 144 145 146 147 148 149 150 151 152 153 154 155 156\n",
      " 157 158 159 160 161 162 163 164 165 166 167 168 169 170 171 172 173 174\n",
      " 175 176 177 178 179 180 181 182 183 184 185 186 187 188 189 190 191 192\n",
      " 193 194 195 196 197 198 199 200 201 202 203 204 205 206 207 208 209 210\n",
      " 211 212 213 214 215 216 217 218 219 220 221 222 223 224 225 226 227 228\n",
      " 229 230 231 232 233 234 235 236 237 238 239 240 241 242 243 244 245 246\n",
      " 247 248 249 250 251 252 253 254 255]\n"
     ]
    }
   ],
   "source": [
    "print(np.unique(matched_region_2))\n",
    "print(np.unique(matched_region))"
   ]
  },
  {
   "cell_type": "code",
   "execution_count": 77,
   "metadata": {},
   "outputs": [
    {
     "data": {
      "text/plain": [
       "True"
      ]
     },
     "execution_count": 77,
     "metadata": {},
     "output_type": "execute_result"
    }
   ],
   "source": [
    "diff_img_copy = diff_img.copy()\n",
    "_, thresh = cv2.threshold(diff_img_copy, 120, 255, cv2.THRESH_BINARY)\n",
    "cv2.imwrite(f'{cur_dir}/diff_thresh.png', thresh)\n",
    "# 寻找匹配区域的轮廓\n",
    "contours, _ = cv2.findContours(thresh, cv2.RETR_EXTERNAL, cv2.CHAIN_APPROX_SIMPLE)\n",
    "\n",
    "\n",
    "# # 绘制外接多边形\n",
    "# for contour in contours:\n",
    "#     epsilon = 0.02 * cv2.arcLength(contour, True)\n",
    "#     approx = cv2.approxPolyDP(contour, epsilon, True)\n",
    "#     cv2.drawContours(diff_img_copy, [approx], 0, (255,0,0), 2)\n",
    "\n",
    "# 绘制轮廓\n",
    "cv2.drawContours(diff_img_copy, contours, -1, (0, 0, 255), 2)\n",
    "cv2.imwrite(f'{cur_dir}/diff_img_copy.png', diff_img_copy)"
   ]
  }
 ],
 "metadata": {
  "kernelspec": {
   "display_name": "py39",
   "language": "python",
   "name": "python3"
  },
  "language_info": {
   "codemirror_mode": {
    "name": "ipython",
    "version": 3
   },
   "file_extension": ".py",
   "mimetype": "text/x-python",
   "name": "python",
   "nbconvert_exporter": "python",
   "pygments_lexer": "ipython3",
   "version": "3.9.13"
  }
 },
 "nbformat": 4,
 "nbformat_minor": 2
}
